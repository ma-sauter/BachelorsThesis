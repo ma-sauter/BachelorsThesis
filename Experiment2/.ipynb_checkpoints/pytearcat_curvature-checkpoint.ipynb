{
 "cells": [
  {
   "cell_type": "code",
   "execution_count": 1,
   "id": "e0b340f7-3a0b-4ddf-aa87-b41fa42d3154",
   "metadata": {},
   "outputs": [],
   "source": [
    "import pytearcat as pt\n",
    "from pytearcat import D"
   ]
  },
  {
   "cell_type": "code",
   "execution_count": 7,
   "id": "4da64870-39fa-4707-816e-00b2ba060e0c",
   "metadata": {},
   "outputs": [
    {
     "name": "stdout",
     "output_type": "stream",
     "text": [
      "Remember that the time coordinate must be the first coordinate.\n",
      "Function a(x,y,theta_1,theta_2) is already defined\n",
      "Function b(x,y,theta_1,theta_2) is already defined\n",
      "Function c(x,y,theta_1,theta_2) is already defined\n"
     ]
    },
    {
     "name": "stdin",
     "output_type": "stream",
     "text": [
      "The metric has already been defined. Do you want to overwrite it? (yes/no) yes\n"
     ]
    },
    {
     "name": "stdout",
     "output_type": "stream",
     "text": [
      "The metric has been redefined. Standard tensors have been deleted.\n",
      "\n",
      "Dimension = 2\n",
      "Coordinates = theta_1,theta_2\n",
      "Metric defined successfully: \n",
      "\n"
     ]
    },
    {
     "data": {
      "text/latex": [
       "$\\displaystyle ds^2 = a{\\left(x,y,\\theta_{1},\\theta_{2} \\right)} \\cdot dtheta_1^2+2 b{\\left(x,y,\\theta_{1},\\theta_{2} \\right)} \\cdot dtheta_1 \\cdot dtheta_2+c{\\left(x,y,\\theta_{1},\\theta_{2} \\right)} \\cdot dtheta_2^2$"
      ],
      "text/plain": [
       "<IPython.core.display.Math object>"
      ]
     },
     "metadata": {},
     "output_type": "display_data"
    },
    {
     "data": {
      "text/latex": [
       "$\\displaystyle \\left[\\begin{matrix}a{\\left(x,y,\\theta_{1},\\theta_{2} \\right)} & b{\\left(x,y,\\theta_{1},\\theta_{2} \\right)}\\\\b{\\left(x,y,\\theta_{1},\\theta_{2} \\right)} & c{\\left(x,y,\\theta_{1},\\theta_{2} \\right)}\\end{matrix}\\right]$"
      ],
      "text/plain": [
       "Matrix([\n",
       "[a(x, y, theta_1, theta_2), b(x, y, theta_1, theta_2)],\n",
       "[b(x, y, theta_1, theta_2), c(x, y, theta_1, theta_2)]])"
      ]
     },
     "metadata": {},
     "output_type": "display_data"
    }
   ],
   "source": [
    "theta_1, theta_2 = pt.coords(\"theta_1,theta_2\")\n",
    "a = pt.fun('a', 'x,y,theta_1,theta_2')\n",
    "b = pt.fun('b', 'x,y,theta_1,theta_2')\n",
    "c = pt.fun('c', 'x,y,theta_1,theta_2')\n",
    "\n",
    "ds = 'ds2 = a * dtheta_1**2 + 2*b * dtheta_1*dtheta_2 \\\n",
    "+ c * dtheta_2**2'\n",
    "\n",
    "g = pt.metric(ds)"
   ]
  },
  {
   "cell_type": "code",
   "execution_count": 8,
   "id": "69b054a7-56f0-4294-a5f2-bac05515ef3d",
   "metadata": {},
   "outputs": [
    {
     "data": {
      "text/latex": [
       "Christoffel $\\Gamma_{\\alpha \\beta \\gamma}$ and $\\Gamma^{\\alpha}_{\\beta \\gamma}$"
      ],
      "text/plain": [
       "<IPython.core.display.Latex object>"
      ]
     },
     "metadata": {},
     "output_type": "display_data"
    },
    {
     "data": {
      "application/vnd.jupyter.widget-view+json": {
       "model_id": "acd1b5d18a294141825a7377b0e9a712",
       "version_major": 2,
       "version_minor": 0
      },
      "text/plain": [
       "  0%|          | 0/8 [00:00<?, ?it/s]"
      ]
     },
     "metadata": {},
     "output_type": "display_data"
    },
    {
     "data": {
      "text/latex": [
       "Riemann Tensor $R^{\\alpha}_{\\beta \\gamma \\delta}$"
      ],
      "text/plain": [
       "<IPython.core.display.Latex object>"
      ]
     },
     "metadata": {},
     "output_type": "display_data"
    },
    {
     "data": {
      "application/vnd.jupyter.widget-view+json": {
       "model_id": "16591fbcfd224479b3f66c7db39ae621",
       "version_major": 2,
       "version_minor": 0
      },
      "text/plain": [
       "  0%|          | 0/16 [00:00<?, ?it/s]"
      ]
     },
     "metadata": {},
     "output_type": "display_data"
    },
    {
     "data": {
      "text/latex": [
       "Ricci Tensor $R_{\\alpha \\beta}$"
      ],
      "text/plain": [
       "<IPython.core.display.Latex object>"
      ]
     },
     "metadata": {},
     "output_type": "display_data"
    },
    {
     "data": {
      "application/vnd.jupyter.widget-view+json": {
       "model_id": "15fd5b9f70a04def902081ca01e572e7",
       "version_major": 2,
       "version_minor": 0
      },
      "text/plain": [
       "  0%|          | 0/4 [00:00<?, ?it/s]"
      ]
     },
     "metadata": {},
     "output_type": "display_data"
    },
    {
     "data": {
      "application/vnd.jupyter.widget-view+json": {
       "model_id": "879d2f0f6fa241f19c42d285b2e282c9",
       "version_major": 2,
       "version_minor": 0
      },
      "text/plain": [
       "  0%|          | 0/4 [00:00<?, ?it/s]"
      ]
     },
     "metadata": {},
     "output_type": "display_data"
    },
    {
     "data": {
      "text/latex": [
       "Ricci Scalar $R$"
      ],
      "text/plain": [
       "<IPython.core.display.Latex object>"
      ]
     },
     "metadata": {},
     "output_type": "display_data"
    },
    {
     "data": {
      "text/latex": [
       "$\\displaystyle - \\frac{2 a{\\left(x,y,\\theta_{1},\\theta_{2} \\right)} c{\\left(x,y,\\theta_{1},\\theta_{2} \\right)} \\frac{\\partial^{2}}{\\partial \\theta_{2}^{2}} a{\\left(x,y,\\theta_{1},\\theta_{2} \\right)} + 2 a{\\left(x,y,\\theta_{1},\\theta_{2} \\right)} c{\\left(x,y,\\theta_{1},\\theta_{2} \\right)} \\frac{\\partial^{2}}{\\partial \\theta_{1}^{2}} c{\\left(x,y,\\theta_{1},\\theta_{2} \\right)} - 4 a{\\left(x,y,\\theta_{1},\\theta_{2} \\right)} c{\\left(x,y,\\theta_{1},\\theta_{2} \\right)} \\frac{\\partial^{2}}{\\partial \\theta_{2}\\partial \\theta_{1}} b{\\left(x,y,\\theta_{1},\\theta_{2} \\right)} - a{\\left(x,y,\\theta_{1},\\theta_{2} \\right)} \\frac{\\partial}{\\partial \\theta_{2}} a{\\left(x,y,\\theta_{1},\\theta_{2} \\right)} \\frac{\\partial}{\\partial \\theta_{2}} c{\\left(x,y,\\theta_{1},\\theta_{2} \\right)} + 2 a{\\left(x,y,\\theta_{1},\\theta_{2} \\right)} \\frac{\\partial}{\\partial \\theta_{1}} b{\\left(x,y,\\theta_{1},\\theta_{2} \\right)} \\frac{\\partial}{\\partial \\theta_{2}} c{\\left(x,y,\\theta_{1},\\theta_{2} \\right)} - a{\\left(x,y,\\theta_{1},\\theta_{2} \\right)} \\left(\\frac{\\partial}{\\partial \\theta_{1}} c{\\left(x,y,\\theta_{1},\\theta_{2} \\right)}\\right)^{2} - 2 b^{2}{\\left(x,y,\\theta_{1},\\theta_{2} \\right)} \\frac{\\partial^{2}}{\\partial \\theta_{2}^{2}} a{\\left(x,y,\\theta_{1},\\theta_{2} \\right)} - 2 b^{2}{\\left(x,y,\\theta_{1},\\theta_{2} \\right)} \\frac{\\partial^{2}}{\\partial \\theta_{1}^{2}} c{\\left(x,y,\\theta_{1},\\theta_{2} \\right)} + 4 b^{2}{\\left(x,y,\\theta_{1},\\theta_{2} \\right)} \\frac{\\partial^{2}}{\\partial \\theta_{2}\\partial \\theta_{1}} b{\\left(x,y,\\theta_{1},\\theta_{2} \\right)} - b{\\left(x,y,\\theta_{1},\\theta_{2} \\right)} \\frac{\\partial}{\\partial \\theta_{1}} a{\\left(x,y,\\theta_{1},\\theta_{2} \\right)} \\frac{\\partial}{\\partial \\theta_{2}} c{\\left(x,y,\\theta_{1},\\theta_{2} \\right)} + 2 b{\\left(x,y,\\theta_{1},\\theta_{2} \\right)} \\frac{\\partial}{\\partial \\theta_{2}} a{\\left(x,y,\\theta_{1},\\theta_{2} \\right)} \\frac{\\partial}{\\partial \\theta_{2}} b{\\left(x,y,\\theta_{1},\\theta_{2} \\right)} + b{\\left(x,y,\\theta_{1},\\theta_{2} \\right)} \\frac{\\partial}{\\partial \\theta_{2}} a{\\left(x,y,\\theta_{1},\\theta_{2} \\right)} \\frac{\\partial}{\\partial \\theta_{1}} c{\\left(x,y,\\theta_{1},\\theta_{2} \\right)} - 4 b{\\left(x,y,\\theta_{1},\\theta_{2} \\right)} \\frac{\\partial}{\\partial \\theta_{1}} b{\\left(x,y,\\theta_{1},\\theta_{2} \\right)} \\frac{\\partial}{\\partial \\theta_{2}} b{\\left(x,y,\\theta_{1},\\theta_{2} \\right)} + 2 b{\\left(x,y,\\theta_{1},\\theta_{2} \\right)} \\frac{\\partial}{\\partial \\theta_{1}} b{\\left(x,y,\\theta_{1},\\theta_{2} \\right)} \\frac{\\partial}{\\partial \\theta_{1}} c{\\left(x,y,\\theta_{1},\\theta_{2} \\right)} + 2 c{\\left(x,y,\\theta_{1},\\theta_{2} \\right)} \\frac{\\partial}{\\partial \\theta_{1}} a{\\left(x,y,\\theta_{1},\\theta_{2} \\right)} \\frac{\\partial}{\\partial \\theta_{2}} b{\\left(x,y,\\theta_{1},\\theta_{2} \\right)} - c{\\left(x,y,\\theta_{1},\\theta_{2} \\right)} \\frac{\\partial}{\\partial \\theta_{1}} a{\\left(x,y,\\theta_{1},\\theta_{2} \\right)} \\frac{\\partial}{\\partial \\theta_{1}} c{\\left(x,y,\\theta_{1},\\theta_{2} \\right)} - c{\\left(x,y,\\theta_{1},\\theta_{2} \\right)} \\left(\\frac{\\partial}{\\partial \\theta_{2}} a{\\left(x,y,\\theta_{1},\\theta_{2} \\right)}\\right)^{2}}{2 \\left(a{\\left(x,y,\\theta_{1},\\theta_{2} \\right)} c{\\left(x,y,\\theta_{1},\\theta_{2} \\right)} - b^{2}{\\left(x,y,\\theta_{1},\\theta_{2} \\right)}\\right)^{2}}$"
      ],
      "text/plain": [
       "<IPython.core.display.Math object>"
      ]
     },
     "metadata": {},
     "output_type": "display_data"
    }
   ],
   "source": [
    "S = pt.riccis()\n",
    "pt.display(S)"
   ]
  },
  {
   "cell_type": "code",
   "execution_count": null,
   "id": "f845e3ca-a9d9-4bd8-9885-1247692d5840",
   "metadata": {},
   "outputs": [],
   "source": []
  }
 ],
 "metadata": {
  "kernelspec": {
   "display_name": "Python 3 (ipykernel)",
   "language": "python",
   "name": "python3"
  },
  "language_info": {
   "codemirror_mode": {
    "name": "ipython",
    "version": 3
   },
   "file_extension": ".py",
   "mimetype": "text/x-python",
   "name": "python",
   "nbconvert_exporter": "python",
   "pygments_lexer": "ipython3",
   "version": "3.10.7"
  }
 },
 "nbformat": 4,
 "nbformat_minor": 5
}
